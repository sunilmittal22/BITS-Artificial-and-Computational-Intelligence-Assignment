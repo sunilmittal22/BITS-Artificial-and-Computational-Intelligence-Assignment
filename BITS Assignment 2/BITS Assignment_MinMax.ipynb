{
  "cells": [
    {
      "cell_type": "markdown",
      "id": "349b329b",
      "metadata": {
        "id": "349b329b"
      },
      "source": [
        "## Artificial and Computational Intelligence Assignment 2"
      ]
    },
    {
      "cell_type": "markdown",
      "id": "ef73df95",
      "metadata": {
        "id": "ef73df95"
      },
      "source": [
        "## Gaming with Min-Max Algorithm - Solution template"
      ]
    },
    {
      "attachments": {},
      "cell_type": "markdown",
      "id": "135a6db2",
      "metadata": {
        "id": "135a6db2"
      },
      "source": [
        "### List only the BITS (Name) of active contributors in this assignment:\n",
        "1. Sunil Mittal\n",
        "2. Vikram Panwar\n",
        "3. ____________________\n",
        "4. ___________________\n",
        "5. ___________________"
      ]
    },
    {
      "cell_type": "markdown",
      "id": "d6f97bd9",
      "metadata": {
        "id": "d6f97bd9"
      },
      "source": [
        "# Things to follow\n",
        "\n",
        "1. Use appropriate data structures to represent the game using python libraries\n",
        "2. Provide proper documentation\n",
        "3. Create neat solution without error during game playing\n",
        "4. REFER TO THE ASSIGNMENT INSTRUCTION & QUESTION INSTRUCTIONS OVER CANVAS FOR EVALUATION CRITERIA"
      ]
    },
    {
      "cell_type": "markdown",
      "id": "9c8fc7c1",
      "metadata": {
        "id": "9c8fc7c1"
      },
      "source": [
        "### Coding begins here"
      ]
    },
    {
      "cell_type": "markdown",
      "id": "ae16f9ad",
      "metadata": {
        "id": "ae16f9ad"
      },
      "source": [
        "### Static Evaluation Value or Utility Code Design - Explain :"
      ]
    },
    {
      "attachments": {},
      "cell_type": "markdown",
      "id": "590fdf87",
      "metadata": {},
      "source": [
        "\n",
        "<p>As, static evaluation function is a function used in AI,spcially in game-playing programs, to estimate the value of a game state without actually searching through all possible future moves.</p>\n",
        "\n",
        "<p>In game-playing programs, such as chess, it is often not feasible to search through all possible future moves from a given game state, as the branching factor can be very high. Therefore, a static evaluation function is used to estimate the value of a game state based on some features of the state, such as the material on the board, the position of the pieces, and the mobility of the pieces.</p>\n",
        "\n",
        "<p>The static evaluation function is typically designed to be fast and efficient, as it is called many times during a search for the best move. The output of the static evaluation function is used to guide the search algorithm towards more promising branches of the game tree.The accuracy of the static evaluation function can greatly impact the performance of the game-playing program. A better static evaluation function can result in better move selection, leading to stronger play. </p>\n",
        "\n",
        "<p>For a static evaluation function, I would assign a point value to each piece on the board. For example:</p>\n",
        "<p>\n",
        "<ul>\n",
        "<li>Soldier/Pawn: 1 point (Solider/Pawn can Move only 1 step)</li>\n",
        "<li>Horse/Knight: 3 points (Horse can move 3 steps in L Shaped)</li>\n",
        "<li>Elephant/Rook: 2 points (It can move upto max width or length of the board which is 3 and max movement can be two steps in either direction)</li>\n",
        "</ul>\n",
        "This value represents the potential of the piece to capture opponent's pieces and to eventually lead to a win for the player. These values were chosen based on the strength and mobility of each piece in the game.\n",
        "</p>\n",
        "<p>\n",
        "Example:<br/>\n",
        "At a given game state, player with white pieces (player 1) has 1 Soldier and 1 Horse and 1 Rook. The player with black pieces (player 2) has only 1 soldier and 1 Horse. The static evaluation value would be:\n",
        "Player 1: 6 points (1 point for Soldier + 3 for Horse + 2 points for Rook)\n",
        "Player 2: 4 points (1 point for Soldier + 3 points for Horse)\n",
        "\n",
        "In this example, player 1 is ahead in the game as they have more points and a greater potential to win.\n",
        "</p>\n",
        "<p>\n",
        "To implement a human-computer interface, we can use the standard input/output functions of Python to prompt the human player for their moves and display the current game state. The computer player can use the minimax algorithm to choose its moves as in given example\n",
        "Assume Player 1 Human </br>\n",
        "Assume Player 2 Computer </br>\n",
        "</p>\n",
        "<p>\n",
        "<table>\n",
        "<tr>\n",
        "<td>Player 1 Soldier</td>\n",
        "<td>Player 1 Horse</td>\n",
        "<td>Player 1 Rook</td>\n",
        "</tr>\n",
        "<tr>\n",
        "<td>&nbsp;</td>\n",
        "<td>&nbsp;</td>\n",
        "<td>&nbsp;</td>\n",
        "</tr>\n",
        "<tr>\n",
        "<td>Player 1 Soldier</td>\n",
        "<td>Player 2 Soldier</td>\n",
        "<td>Player 2 Horse</td>\n",
        "</tr>\n",
        "</table>\n",
        "</p>\n",
        "<p>\n",
        "Computer would then use the minimax algorithm to select its move. Lets assume A (3,2) --> A(2,2)\n",
        "</p>\n",
        "<p>\n",
        "<table>\n",
        "<tr>\n",
        "<td>Player 1 Soldier</td>\n",
        "<td>Player 1 Horse</td>\n",
        "<td>Player 1 Rook</td>\n",
        "</tr>\n",
        "<tr>\n",
        "<td>&nbsp;</td>\n",
        "<td>Player 2 Soldier</td>\n",
        "<td>&nbsp;</td>\n",
        "</tr>\n",
        "<tr>\n",
        "<td>&nbsp;</td>\n",
        "<td>&nbsp;</td>\n",
        "<td>Player 2 Horse</td>\n",
        "</tr>\n",
        "</table>\n",
        "</p>\n",
        "<p>\n",
        "Program will then prompt the human player to enter their move, the program would then update the game state and display it again, along with a message indicating whose turn it is next:\n",
        "</p>\n",
        "<p>\n",
        "<table>\n",
        "<tr>\n",
        "<td>&nbsp;</td>\n",
        "<td>&nbsp;</td>\n",
        "<td>Player 1 Rook</td>\n",
        "</tr>\n",
        "<tr>\n",
        "<td>&nbsp;</td>\n",
        "<td>Player 2 Soldier</td>\n",
        "<td>&nbsp;</td>\n",
        "</tr>\n",
        "<tr>\n",
        "<td>Player 1 Horse</td>\n",
        "<td>&nbsp;</td>\n",
        "<td>Player 2 Horse</td>\n",
        "</tr>\n",
        "</table>\n",
        "</p>\n",
        "<p>\n",
        "The computer would then use the minimax algorithm to select its move, and the process would repeat until one of the players wins or the game ends in a draw.\n",
        "</p>"
      ]
    },
    {
      "cell_type": "markdown",
      "id": "c158f4a2",
      "metadata": {
        "id": "c158f4a2"
      },
      "source": [
        "#### Static Evaluation Value or Utility Code Design - Implement :"
      ]
    },
    {
      "cell_type": "code",
      "execution_count": 2,
      "id": "ad3cab97",
      "metadata": {
        "id": "ad3cab97"
      },
      "outputs": [
        {
          "name": "stdout",
          "output_type": "stream",
          "text": [
            "The optimal value is : 5\n"
          ]
        }
      ],
      "source": [
        "#Static Evaluation Function\n",
        "def minimax(depth, nodeIndex, maximizingPlayer, values, alpha, beta):\n",
        "    if depth == 3:\n",
        "        return values[nodeIndex]\n",
        "    \n",
        "    if maximizingPlayer:\n",
        "        best = -1000\n",
        "        for i in range(0, 2):\n",
        "            val = minimax(depth + 1, nodeIndex * 2 + i, False, values, alpha, beta)\n",
        "            best = max(best, val)\n",
        "            alpha = max(alpha, best)\n",
        "            if beta <= alpha:\n",
        "                break\n",
        "        return best\n",
        "    else:\n",
        "        best = 1000\n",
        "        for i in range(0, 2):\n",
        "            val = minimax(depth + 1, nodeIndex * 2 + i, True, values, alpha, beta)\n",
        "            best = min(best, val)\n",
        "            beta = min(beta, best)\n",
        "            if beta <= alpha:\n",
        "                break\n",
        "        return best\n",
        "\n",
        "values = [3, 5, 6, 9, 1, 2, 0, -1]\n",
        "print(\"The optimal value is : \", end=\"\")\n",
        "print(minimax(0, 0, True, values, -1000, 1000))"
      ]
    },
    {
      "cell_type": "markdown",
      "id": "VekIXjho5jF9",
      "metadata": {
        "id": "VekIXjho5jF9"
      },
      "source": [
        "#### Terminal State / Game Ending (Win/Loss/Draw):  Design \n",
        "\n",
        "\n"
      ]
    },
    {
      "attachments": {},
      "cell_type": "markdown",
      "id": "c0178b93",
      "metadata": {},
      "source": [
        "In order to determine when a game of chess has ended in Python, we need to define the conditions for a terminal state. A terminal state occurs when the game is over and a winner has been determined or when the game has ended in a draw.\n",
        "\n",
        "Here are some conditions for a terminal state in a chess game:\n",
        "\n",
        "Checkmate: When one player's king is under attack and cannot escape capture on the next move, the game is over and the other player wins.\n",
        "Stalemate: When one player has no legal moves available and their king is not under attack, the game is a draw.\n",
        "Draw by agreement: When both players agree to a draw.\n",
        "Threefold repetition: When the same position occurs on the board three times with the same player to move, the game is a draw.\n",
        "Fifty-move rule: When fifty moves have been played without a capture or pawn move, the game is a draw.\n",
        "To implement these conditions in Python, we can define a function that takes in the current state of the game and checks for each of these conditions. If any of the conditions are met, the function returns the appropriate result (win for one player, draw, or no result if the game is not yet over).\n",
        "\n",
        "Here is an example implementation of a terminal state check function for a chess game:"
      ]
    },
    {
      "cell_type": "markdown",
      "id": "dA_j0jl06pf4",
      "metadata": {
        "id": "dA_j0jl06pf4"
      },
      "source": [
        "### Terminal State / Game Ending (Win/Loss/Draw):  Implementation"
      ]
    },
    {
      "cell_type": "code",
      "execution_count": 3,
      "id": "-CTEWN9a54o3",
      "metadata": {
        "id": "-CTEWN9a54o3"
      },
      "outputs": [],
      "source": [
        "# code Block\n",
        "def is_terminal_state(board):\n",
        "    if board.is_checkmate():\n",
        "        # If one player is in checkmate, the other player wins\n",
        "        return \"white\" if board.turn else \"black\"\n",
        "    elif board.is_stalemate() or board.is_insufficient_material() or board.is_seventyfive_moves() or board.is_fivefold_repetition():\n",
        "        # If the game ends in a draw by any of these conditions, return \"draw\"\n",
        "        return \"draw\"\n",
        "    else:\n",
        "        # If the game is not over, return None\n",
        "        return None"
      ]
    },
    {
      "attachments": {},
      "cell_type": "markdown",
      "id": "898a21fa",
      "metadata": {},
      "source": [
        "In this example, we are using the Python chess library to represent and manipulate the game state. The is_checkmate() method checks if one player is in checkmate, and the turn attribute of the board object tells us which player is to move next. The other methods check for the other conditions listed above. If none of these conditions are met, the function returns None to indicate that the game is not yet over."
      ]
    },
    {
      "cell_type": "markdown",
      "id": "AMnyoKGY6wZz",
      "metadata": {
        "id": "AMnyoKGY6wZz"
      },
      "source": [
        "#### Dynamic Input Design : Explain "
      ]
    },
    {
      "attachments": {},
      "cell_type": "markdown",
      "id": "c4fe3fde",
      "metadata": {},
      "source": [
        "To implement dynamic user input for a chess game in Python, you can use the input() function to prompt the user for their move. Below is an example :"
      ]
    },
    {
      "cell_type": "markdown",
      "id": "GVryfyxb659V",
      "metadata": {
        "id": "GVryfyxb659V"
      },
      "source": [
        "### Proper Prompt to the User for Dynamic Input & Handling incorrect inputs - Implement"
      ]
    },
    {
      "cell_type": "code",
      "execution_count": 4,
      "id": "6Z2PP9vj629U",
      "metadata": {
        "id": "6Z2PP9vj629U"
      },
      "outputs": [
        {
          "ename": "NameError",
          "evalue": "name 'game_over' is not defined",
          "output_type": "error",
          "traceback": [
            "\u001b[1;31m---------------------------------------------------------------------------\u001b[0m",
            "\u001b[1;31mNameError\u001b[0m                                 Traceback (most recent call last)",
            "\u001b[1;32mc:\\Users\\sunil\\Documents\\GitHub\\BITS-Artificial-and-Computational-Intelligence-Assignment\\BITS Assignment_MinMax.ipynb Cell 18\u001b[0m in \u001b[0;36m<cell line: 1>\u001b[1;34m()\u001b[0m\n\u001b[1;32m----> <a href='vscode-notebook-cell:/c%3A/Users/sunil/Documents/GitHub/BITS-Artificial-and-Computational-Intelligence-Assignment/BITS%20Assignment_MinMax.ipynb#X24sZmlsZQ%3D%3D?line=0'>1</a>\u001b[0m \u001b[39mwhile\u001b[39;00m \u001b[39mnot\u001b[39;00m game_over:\n\u001b[0;32m      <a href='vscode-notebook-cell:/c%3A/Users/sunil/Documents/GitHub/BITS-Artificial-and-Computational-Intelligence-Assignment/BITS%20Assignment_MinMax.ipynb#X24sZmlsZQ%3D%3D?line=1'>2</a>\u001b[0m     \u001b[39m# get the user's move\u001b[39;00m\n\u001b[0;32m      <a href='vscode-notebook-cell:/c%3A/Users/sunil/Documents/GitHub/BITS-Artificial-and-Computational-Intelligence-Assignment/BITS%20Assignment_MinMax.ipynb#X24sZmlsZQ%3D%3D?line=2'>3</a>\u001b[0m     move \u001b[39m=\u001b[39m \u001b[39minput\u001b[39m(\u001b[39m\"\u001b[39m\u001b[39mEnter your move (e.g. \u001b[39m\u001b[39m'\u001b[39m\u001b[39me2e4\u001b[39m\u001b[39m'\u001b[39m\u001b[39m): \u001b[39m\u001b[39m\"\u001b[39m)\n\u001b[0;32m      <a href='vscode-notebook-cell:/c%3A/Users/sunil/Documents/GitHub/BITS-Artificial-and-Computational-Intelligence-Assignment/BITS%20Assignment_MinMax.ipynb#X24sZmlsZQ%3D%3D?line=4'>5</a>\u001b[0m     \u001b[39m# validate the move\u001b[39;00m\n",
            "\u001b[1;31mNameError\u001b[0m: name 'game_over' is not defined"
          ]
        }
      ],
      "source": [
        "while not game_over:\n",
        "    # get the user's move\n",
        "    move = input(\"Enter your move (e.g. 'e2e4'): \")\n",
        "\n",
        "    # validate the move\n",
        "    if is_valid_move(move):\n",
        "        # make the move on the board\n",
        "        make_move(move)\n",
        "\n",
        "        # check if the game is over\n",
        "        game_over = is_game_over()\n",
        "    else:\n",
        "        print(\"Invalid move. Please try again.\")"
      ]
    },
    {
      "cell_type": "markdown",
      "id": "979b8c3b",
      "metadata": {
        "id": "979b8c3b"
      },
      "source": [
        "### Implementation of the Min-Max algorithm"
      ]
    },
    {
      "attachments": {},
      "cell_type": "markdown",
      "id": "6c698d9b",
      "metadata": {},
      "source": [
        "This code implements the Minimax algorithm for a game with a small number of moves and a limited search depth (depth=3). The function minimax takes the current game state, the current player, and the search depth as inputs, and returns the best move for the current player. The alpha and beta values are used to implement alpha-beta pruning, which is a technique to reduce the number of game states that need to be evaluated by the algorithm.\n",
        "\n",
        "Chess Board Key Combination to Play :\n",
        "<table>\n",
        "<tr><td></td><td>a</td><td>b</td><td>c</td><td>d</td><td>e</td><td>f</td><td>g</td><td>h</td><td></td></tr>\n",
        "<tr><td>8</td><td></td><td></td><td></td><td></td><td></td><td></td><td></td><td></td><td>8</td></tr>\n",
        "<tr><td>7</td><td></td><td></td><td></td><td></td><td></td><td></td><td></td><td></td><td>7</td></tr>\n",
        "<tr><td>6</td><td></td><td></td><td></td><td></td><td></td><td></td><td></td><td></td><td>6</td></tr>\n",
        "<tr><td>5</td><td></td><td></td><td></td><td></td><td></td><td></td><td></td><td></td><td>5</td></tr>\n",
        "<tr><td>4</td><td></td><td></td><td></td><td></td><td></td><td></td><td></td><td></td><td>4</td></tr>\n",
        "<tr><td>3</td><td></td><td></td><td></td><td></td><td></td><td></td><td></td><td></td><td>3</td></tr>\n",
        "<tr><td>2</td><td></td><td></td><td></td><td></td><td></td><td></td><td></td><td></td><td>2</td></tr>\n",
        "<tr><td>1</td><td></td><td></td><td></td><td></td><td></td><td></td><td></td><td></td><td>1</td></tr>\n",
        "<tr><td></td><td>a</td><td>b</td><td>c</td><td>d</td><td>e</td><td>f</td><td>g</td><td>h</td><td></td></tr>\n",
        "</table>"
      ]
    },
    {
      "cell_type": "code",
      "execution_count": 6,
      "id": "d3RmQ8cF6a24",
      "metadata": {
        "id": "d3RmQ8cF6a24"
      },
      "outputs": [
        {
          "name": "stdout",
          "output_type": "stream",
          "text": [
            "r n b q k b n r\n",
            "p p p p p p p p\n",
            ". . . . . . . .\n",
            ". . . . . . . .\n",
            ". . . . . . . .\n",
            ". . . . . . . .\n",
            "P P P P P P P P\n",
            "R N B Q K B N R\n",
            "Invalid move. Please try again.\n",
            "r n b q k b n r\n",
            "p p p p p p p p\n",
            ". . . . . . . .\n",
            ". . . . . . . .\n",
            ". . . . . . . .\n",
            ". . . . . . P .\n",
            "P P P P P P . P\n",
            "R N B Q K B N R\n",
            "Computer moves: g8h6\n",
            "r n b q k b . r\n",
            "p p p p p p p p\n",
            ". . . . . . . n\n",
            ". . . . . . . .\n",
            ". . . . . . . .\n",
            ". . . . . . P .\n",
            "P P P P P P . P\n",
            "R N B Q K B N R\n",
            "r n b q k b . r\n",
            "p p p p p p p p\n",
            ". . . . . . . n\n",
            ". . . . . . . .\n",
            ". . . . . . . .\n",
            ". . . . . N P .\n",
            "P P P P P P . P\n",
            "R N B Q K B . R\n",
            "Computer moves: h8g8\n",
            "r n b q k b r .\n",
            "p p p p p p p p\n",
            ". . . . . . . n\n",
            ". . . . . . . .\n",
            ". . . . . . . .\n",
            ". . . . . N P .\n",
            "P P P P P P . P\n",
            "R N B Q K B . R\n"
          ]
        }
      ],
      "source": [
        "#https://python-chess.readthedocs.io/en/latest/\n",
        "import chess\n",
        "import random\n",
        "\n",
        "# Define the minimax algorithm\n",
        "def minimax(board, depth, maximizing_player):\n",
        "    if depth == 0 or board.is_game_over():\n",
        "        return evaluate_board(board)\n",
        "\n",
        "    if maximizing_player:\n",
        "        max_eval = float('-inf')\n",
        "        for move in board.legal_moves:\n",
        "            board.push(move)\n",
        "            eval = minimax(board, depth - 1, False)\n",
        "            board.pop()\n",
        "            max_eval = max(max_eval, eval)\n",
        "        return max_eval\n",
        "\n",
        "    else:\n",
        "        min_eval = float('inf')\n",
        "        for move in board.legal_moves:\n",
        "            board.push(move)\n",
        "            eval = minimax(board, depth - 1, True)\n",
        "            board.pop()\n",
        "            min_eval = min(min_eval, eval)\n",
        "        return min_eval\n",
        "\n",
        "# Define the evaluation function\n",
        "def evaluate_board(board):\n",
        "    piece_values = {\n",
        "        chess.PAWN: 1,\n",
        "        chess.KNIGHT: 3,\n",
        "        chess.BISHOP: 3,\n",
        "        chess.ROOK: 5,\n",
        "        chess.QUEEN: 9,\n",
        "        chess.KING: 0\n",
        "    }\n",
        "\n",
        "    score = 0\n",
        "    for square in chess.SQUARES:\n",
        "        piece = board.piece_at(square)\n",
        "        if piece is not None:\n",
        "            value = piece_values[piece.piece_type]\n",
        "            if piece.color == chess.WHITE:\n",
        "                score += value\n",
        "            else:\n",
        "                score -= value\n",
        "\n",
        "    return score\n",
        "\n",
        "# Initialize the board\n",
        "board = chess.Board()\n",
        "\n",
        "# Define the maximum depth of the minimax algorithm\n",
        "max_depth = 2\n",
        "\n",
        "# Loop until the game ends\n",
        "while not board.is_game_over():\n",
        "    # Print the current board state\n",
        "    print(board)\n",
        "\n",
        "    # Human player's move\n",
        "    if board.turn == chess.WHITE:\n",
        "        move = None\n",
        "        while move is None:\n",
        "            try:\n",
        "                #print(board.legal_moves)\n",
        "                move = input(\"Enter your move (in algebraic notation): \")\n",
        "                move = chess.Move.from_uci(move)\n",
        "                if move not in board.legal_moves:\n",
        "                    raise ValueError\n",
        "            except ValueError:\n",
        "                print(\"Invalid move. Please try again.\")\n",
        "                move = None\n",
        "\n",
        "        # Make the move and update the board\n",
        "        board.push(move)\n",
        "\n",
        "    # Computer player's move\n",
        "    else:\n",
        "        best_move = None\n",
        "        best_eval = float('-inf')\n",
        "        for move in board.legal_moves:\n",
        "            board.push(move)\n",
        "            eval = minimax(board, max_depth, False)\n",
        "            board.pop()\n",
        "            if eval > best_eval:\n",
        "                best_eval = eval\n",
        "                best_move = move\n",
        "\n",
        "        # Make the move and update the board\n",
        "        print(\"Computer moves: \" + str(best_move))\n",
        "        board.push(best_move)\n",
        "\n",
        "# Print the final board state and game result\n",
        "print(board)\n",
        "print(\"Game over. Result: \", board.result())\n"
      ]
    },
    {
      "cell_type": "code",
      "execution_count": 5,
      "id": "4OeKligC6e2h",
      "metadata": {
        "id": "4OeKligC6e2h"
      },
      "outputs": [
        {
          "name": "stdout",
          "output_type": "stream",
          "text": [
            "Defaulting to user installation because normal site-packages is not writeable\n",
            "Collecting chess\n",
            "  Using cached chess-1.9.4-py3-none-any.whl (149 kB)\n",
            "Installing collected packages: chess\n",
            "Successfully installed chess-1.9.4\n",
            "Note: you may need to restart the kernel to use updated packages.\n"
          ]
        }
      ],
      "source": [
        "pip install chess"
      ]
    },
    {
      "cell_type": "code",
      "execution_count": null,
      "id": "3e2fd5c8",
      "metadata": {
        "id": "3e2fd5c8"
      },
      "outputs": [],
      "source": [
        "#Code block"
      ]
    },
    {
      "cell_type": "markdown",
      "id": "71d82f98",
      "metadata": {
        "id": "71d82f98"
      },
      "source": [
        "### Any Inference / Documentation"
      ]
    },
    {
      "attachments": {},
      "cell_type": "markdown",
      "id": "a322da4e",
      "metadata": {},
      "source": [
        "In this code, the chess module is imported to handle the board and game logic. The minimax function implements the minimax algorithm for the computer player, using the evaluate_board function as the evaluation function for the leaf nodes of the game tree. The evaluate_board function assigns a score to the current board state based on the total value of the pieces on the board.\n",
        "\n",
        "The game loop works similarly to the previous example, but now includes a section for the computer player's move. The computer player uses the minimax algorithm to choose the best move based on the current board state and the maximum depth of the search tree. Once the best move is chosen, it is printed to the console and executed on"
      ]
    },
    {
      "cell_type": "code",
      "execution_count": null,
      "id": "7f807ef3",
      "metadata": {
        "id": "7f807ef3"
      },
      "outputs": [],
      "source": [
        "#Code block\n",
        "#https://python-chess.readthedocs.io/en/latest/\n"
      ]
    }
  ],
  "metadata": {
    "colab": {
      "provenance": []
    },
    "kernelspec": {
      "display_name": "base",
      "language": "python",
      "name": "python3"
    },
    "language_info": {
      "codemirror_mode": {
        "name": "ipython",
        "version": 3
      },
      "file_extension": ".py",
      "mimetype": "text/x-python",
      "name": "python",
      "nbconvert_exporter": "python",
      "pygments_lexer": "ipython3",
      "version": "3.9.12"
    },
    "vscode": {
      "interpreter": {
        "hash": "ad2bdc8ecc057115af97d19610ffacc2b4e99fae6737bb82f5d7fb13d2f2c186"
      }
    }
  },
  "nbformat": 4,
  "nbformat_minor": 5
}
