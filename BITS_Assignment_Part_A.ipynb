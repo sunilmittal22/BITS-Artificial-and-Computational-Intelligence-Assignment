{
 "cells": [
  {
   "cell_type": "code",
   "execution_count": null,
   "metadata": {},
   "outputs": [],
   "source": []
  },
  {
   "attachments": {},
   "cell_type": "markdown",
   "metadata": {},
   "source": [
    "###Question 1 – Game Problem statement\n",
    "\n",
    "Simulate the working of chess with the below sample smaller game board. A player with any piece/coin standing where its opponent sacrifices all the piece/coin is a win for the first player.\n",
    "Soldier/Pawn (S) can move only one straight step ahead. Only if opponent coins are available, it can move in diagonally one step forward to attack the opponent coin.\n",
    "Horses/Knight(H) can move either forward/backward in L–shaped strides covering exactly 3 tiles. It is the only piece that can jump over other coins\n",
    "Elephant/Rook (E) can move either vertically or horizontally up to maximum length of the board.\n",
    "<img src=\"files/Qa.png\" style=\"max-height:250px;max-width:250px;\"/>\n",
    "\n",
    "a. You are free to choose your own static evaluation function. Justify your choice of static evaluation value design and explain with a sample game state. Do not use any machine learning model for the evaluation function.\n",
    "b. Similar to the virtual lab example, one of the players must be a human ie., it must get dynamic inputs from us. The other layer must be simulated using the program.\n",
    "c. Implement Python code for the design under part a, using Minimax Algorithm"
   ]
  },
  {
   "attachments": {},
   "cell_type": "markdown",
   "metadata": {},
   "source": [
    "For a static evaluation function, I would assign a point value to each piece on the board. For example:\n",
    "\n",
    "Soldier/Pawn: 1 point\n",
    "Horse/Knight: 3 points\n",
    "Elephant/Rook: 5 points\n",
    "This value represents the potential of the piece to capture opponent's pieces and to eventually lead to a win for the player. These values were chosen based on the strength and mobility of each piece in the game.\n",
    "\n",
    "Example:\n",
    "At a given game state, player 1 has 1 Soldier and 1 Elephant while player 2 has 1 Soldier and 1 Horse. The static evaluation value would be:\n",
    "Player 1: 6 points (1 point for Soldier + 5 points for Elephant)\n",
    "Player 2: 4 points (1 point for Soldier + 3 points for Horse)\n",
    "\n",
    "In this example, player 1 is ahead in the game as they have more points and a greater potential to win."
   ]
  },
  {
   "attachments": {},
   "cell_type": "markdown",
   "metadata": {},
   "source": [
    "b. Minimax Algorithm:\n",
    "\n",
    "Minimax algorithm is a decision-making algorithm used in games like chess to determine the best move for a player. It evaluates all possible moves and their outcomes, and chooses the move that gives the maximum advantage for the current player and the minimum advantage for the opponent.\n",
    "\n",
    "The algorithm works by creating a game tree where each node represents a game state, and the children of the node represent the next possible moves from that state. The algorithm starts at the current state of the game and evaluates the outcome of each possible move. The algorithm continues to evaluate the game tree until it reaches a terminal state (a state where the game is over). The algorithm then chooses the move that gives the maximum advantage for the current player and the minimum advantage for the opponent.\n",
    "Explanationfor step 2\n",
    "Minimax algorithm is a decision-making algorithm used in games like chess to determine the best move for a player. The algorithm works by creating a game tree where each node represents a game state and each branch represents a possible move. The algorithm evaluates the outcome of each possible move, and chooses the move that gives the maximum advantage for the current player and the minimum advantage for the opponent. The evaluation is done using a static evaluation function, which assigns a point value to each piece based on its strength and mobility. The algorithm uses a technique called alpha-beta pruning to reduce the number of game states that need to be evaluated, making the algorithm more efficient."
   ]
  },
  {
   "cell_type": "code",
   "execution_count": 1,
   "metadata": {},
   "outputs": [
    {
     "name": "stdout",
     "output_type": "stream",
     "text": [
      "The optimal value is : 5\n"
     ]
    }
   ],
   "source": [
    "def minimax(depth, nodeIndex, maximizingPlayer, values, alpha, beta):\n",
    "    if depth == 3:\n",
    "        return values[nodeIndex]\n",
    "    \n",
    "    if maximizingPlayer:\n",
    "        best = -1000\n",
    "        for i in range(0, 2):\n",
    "            val = minimax(depth + 1, nodeIndex * 2 + i, False, values, alpha, beta)\n",
    "            best = max(best, val)\n",
    "            alpha = max(alpha, best)\n",
    "            if beta <= alpha:\n",
    "                break\n",
    "        return best\n",
    "    else:\n",
    "        best = 1000\n",
    "        for i in range(0, 2):\n",
    "            val = minimax(depth + 1, nodeIndex * 2 + i, True, values, alpha, beta)\n",
    "            best = min(best, val)\n",
    "            beta = min(beta, best)\n",
    "            if beta <= alpha:\n",
    "                break\n",
    "        return best\n",
    "\n",
    "values = [3, 5, 6, 9, 1, 2, 0, -1]\n",
    "print(\"The optimal value is : \", end=\"\")\n",
    "print(minimax(0, 0, True, values, -1000, 1000))"
   ]
  },
  {
   "attachments": {},
   "cell_type": "markdown",
   "metadata": {},
   "source": [
    "This code implements the Minimax algorithm for a game with a small number of moves and a limited search depth (depth=3). The function minimax takes the current game state, the current player, and the search depth as inputs, and returns the best move for the current player. The alpha and beta values are used to implement alpha-beta pruning, which is a technique to reduce the number of game states that need to be evaluated by the algorithm."
   ]
  },
  {
   "attachments": {},
   "cell_type": "markdown",
   "metadata": {},
   "source": [
    "SUMMARY:\n",
    "\n",
    "Minimax algorithm is a decision-making method for two-player games such as chess. It evaluates all possible moves and their outcomes by creating a game tree and uses a static evaluation function to assign a value to each board state. The algorithm determines the best move for a player by choosing the one that gives the maximum advantage for the player and the minimum advantage for the opponent. The implementation of Minimax algorithm in Python involves using the minimax function and implementing alpha-beta pruning to optimize performance."
   ]
  }
 ],
 "metadata": {
  "kernelspec": {
   "display_name": "Python 3",
   "language": "python",
   "name": "python3"
  },
  "language_info": {
   "codemirror_mode": {
    "name": "ipython",
    "version": 3
   },
   "file_extension": ".py",
   "mimetype": "text/x-python",
   "name": "python",
   "nbconvert_exporter": "python",
   "pygments_lexer": "ipython3",
   "version": "3.10.5"
  },
  "orig_nbformat": 4,
  "vscode": {
   "interpreter": {
    "hash": "79c792ad3c73468cd23fa5e462a9995a55a891b4cc8b43152f30c7a140787c39"
   }
  }
 },
 "nbformat": 4,
 "nbformat_minor": 2
}
