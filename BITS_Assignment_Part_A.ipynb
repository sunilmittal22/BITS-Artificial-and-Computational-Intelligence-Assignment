{
 "cells": [
  {
   "cell_type": "code",
   "execution_count": null,
   "metadata": {},
   "outputs": [],
   "source": []
  },
  {
   "attachments": {},
   "cell_type": "markdown",
   "metadata": {},
   "source": [
    "###Question 1 – Game Problem statement\n",
    "\n",
    "Simulate the working of chess with the below sample smaller game board. A player with any piece/coin standing where its opponent sacrifices all the piece/coin is a win for the first player.\n",
    "Soldier/Pawn (S) can move only one straight step ahead. Only if opponent coins are available, it can move in diagonally one step forward to attack the opponent coin.\n",
    "Horses/Knight(H) can move either forward/backward in L–shaped strides covering exactly 3 tiles. It is the only piece that can jump over other coins\n",
    "Elephant/Rook (E) can move either vertically or horizontally up to maximum length of the board.\n",
    "<img src=\"~/files/Qa.png\">\n",
    "\n",
    "a. You are free to choose your own static evaluation function. Justify your choice of static evaluation value design and explain with a sample game state. Do not use any machine learning model for the evaluation function.\n",
    "b. Similar to the virtual lab example, one of the players must be a human ie., it must get dynamic inputs from us. The other layer must be simulated using the program.\n",
    "c. Implement Python code for the design under part a, using Minimax Algorithm"
   ]
  },
  {
   "attachments": {},
   "cell_type": "markdown",
   "metadata": {},
   "source": [
    "For a static evaluation function, I would assign a point value to each piece on the board. For example:\n",
    "\n",
    "Soldier/Pawn: 1 point\n",
    "Horse/Knight: 3 points\n",
    "Elephant/Rook: 5 points\n",
    "This value represents the potential of the piece to capture opponent's pieces and to eventually lead to a win for the player. These values were chosen based on the strength and mobility of each piece in the game.\n",
    "\n",
    "Example:\n",
    "At a given game state, player 1 has 1 Soldier and 1 Elephant while player 2 has 1 Soldier and 1 Horse. The static evaluation value would be:\n",
    "Player 1: 6 points (1 point for Soldier + 5 points for Elephant)\n",
    "Player 2: 4 points (1 point for Soldier + 3 points for Horse)\n",
    "\n",
    "In this example, player 1 is ahead in the game as they have more points and a greater potential to win."
   ]
  },
  {
   "cell_type": "code",
   "execution_count": null,
   "metadata": {},
   "outputs": [],
   "source": []
  }
 ],
 "metadata": {
  "language_info": {
   "name": "python"
  },
  "orig_nbformat": 4
 },
 "nbformat": 4,
 "nbformat_minor": 2
}
